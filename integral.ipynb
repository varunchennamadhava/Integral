{
 "cells": [
  {
   "cell_type": "code",
   "execution_count": 1,
   "metadata": {},
   "outputs": [
    {
     "name": "stdout",
     "output_type": "stream",
     "text": [
      "Midpoint and Simpson Integral\n"
     ]
    }
   ],
   "source": [
    "print(\"Midpoint and Simpson Integral\")"
   ]
  },
  {
   "cell_type": "code",
   "execution_count": 10,
   "metadata": {},
   "outputs": [
    {
     "name": "stdout",
     "output_type": "stream",
     "text": [
      "0.023732548771\n",
      "+-------+-------+-------+-------+-------+\n",
      "|  F(x) | n = 1 | n = 2 | n = 4 | n = 8 |\n",
      "+-------+-------+-------+-------+-------+\n",
      "+-------+-------+-------+-------+-------+\n"
     ]
    }
   ],
   "source": [
    "import math\n",
    "from prettytable import PrettyTable\n",
    "# https://www.youtube.com/watch?v=Jqbec2k6PmM\n",
    "\n",
    "def sinxFunction(x):\n",
    "    return math.sin(x)\n",
    "\n",
    "def deltaX(upper_bound, lower_bound, n):\n",
    "    return ((upper_bound - lower_bound)/n);\n",
    "\n",
    "def simpsonsRuleSinX(upper_bound, lower_bound, n):\n",
    "    constant = (deltaX(upper_bound, lower_bound, n))/3;\n",
    "    FX0 = sinxFunction(lower_bound);\n",
    "    FXN = sinxFunction(upper_bound);\n",
    "    FX2j = 0;\n",
    "    FX2j_1 = 0;\n",
    "    for i in range(0, (n/2)-1):\n",
    "        FX2j = FX2j + sinxFunction((2*i)-1);\n",
    "    for j in range(0, (n/2)):\n",
    "        FX2j_1 = FX2j_1 + sinxFunction(2*j);\n",
    "    answer = (constant * ( FX0 + (2* FX2j) + (4 * FX2j_1) + FXN));\n",
    "    return answer;\n",
    "      \n",
    "def main():\n",
    "    table = PrettyTable();\n",
    "    table.field_names = [\" F(x)\", \"n = 1\", \"n = 2\", \"n = 4\", \"n = 8\"];\n",
    "    print(simpsonsRuleSinX(1.2, 0.8, 8))\n",
    "    print(table);\n",
    "    \n",
    "\n",
    "main()"
   ]
  },
  {
   "cell_type": "code",
   "execution_count": null,
   "metadata": {},
   "outputs": [],
   "source": []
  },
  {
   "cell_type": "code",
   "execution_count": null,
   "metadata": {},
   "outputs": [],
   "source": []
  }
 ],
 "metadata": {
  "kernelspec": {
   "display_name": "Python 2",
   "language": "python",
   "name": "python2"
  },
  "language_info": {
   "codemirror_mode": {
    "name": "ipython",
    "version": 2
   },
   "file_extension": ".py",
   "mimetype": "text/x-python",
   "name": "python",
   "nbconvert_exporter": "python",
   "pygments_lexer": "ipython2",
   "version": "2.7.15"
  }
 },
 "nbformat": 4,
 "nbformat_minor": 2
}
