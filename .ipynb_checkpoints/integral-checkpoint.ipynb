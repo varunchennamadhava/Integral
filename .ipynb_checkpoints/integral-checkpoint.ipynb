{
 "cells": [
  {
   "cell_type": "code",
   "execution_count": 1,
   "metadata": {},
   "outputs": [
    {
     "name": "stdout",
     "output_type": "stream",
     "text": [
      "Midpoint and Simpson Integral\n"
     ]
    }
   ],
   "source": [
    "print(\"Midpoint and Simpson Integral\")"
   ]
  },
  {
   "cell_type": "code",
   "execution_count": 9,
   "metadata": {},
   "outputs": [
    {
     "name": "stdout",
     "output_type": "stream",
     "text": [
      "+---------------------------+----------------+----------------+----------------+-----------------+\n",
      "|                           |     n = 1      |     n = 2      |     n = 4      |      n = 8      |\n",
      "+---------------------------+----------------+----------------+----------------+-----------------+\n",
      "| Simspons Composite sin(x) | 0.219919356916 | 0.352438992278 | 0.131410562418 | 0.0857746555507 |\n",
      "+---------------------------+----------------+----------------+----------------+-----------------+\n"
     ]
    }
   ],
   "source": [
    "import math\n",
    "from prettytable import PrettyTable\n",
    "# https://www.youtube.com/watch?v=Jqbec2k6PmM\n",
    "\n",
    "def sinxFunction(x):\n",
    "    return math.sin(x)\n",
    "\n",
    "def deltaX(upper_bound, lower_bound, n):\n",
    "    return ((upper_bound - lower_bound)/n);\n",
    "\n",
    "\n",
    "def simpsonsRuleSinX(upper_bound, lower_bound, n):\n",
    "    constant = (deltaX(upper_bound, lower_bound, n))/3;\n",
    "    FX0 = sinxFunction(lower_bound);\n",
    "    FXN = sinxFunction(upper_bound);\n",
    "    FX2j = 0;\n",
    "    FX2j_1 = 0;\n",
    "    for i in range(1, int(n/2)):\n",
    "        FX2j = FX2j + sinxFunction((2*i)-1);\n",
    "    for j in range(1, int(n/2)+1):\n",
    "        FX2j_1 = FX2j_1 + sinxFunction(2*j);\n",
    "    answer = (constant * ( FX0 + (2* FX2j) + (4 * FX2j_1) + FXN));\n",
    "    return answer;\n",
    "\n",
    "\n",
    "def compositeSimpsonRule(function,a,b):\n",
    "    start_time = time.time()\n",
    "    n = 1000000\n",
    "    h = (b-a)/n\n",
    "    x = [a+(j*h) for j in range(0,n+1)]\n",
    "    secondterm = 0\n",
    "    for j in range(1,int(n/2)):\n",
    "        secondterm += function(x[(2*j)-1])\n",
    "    thirdterm = 0\n",
    "    for j in range(1,int(n/2)+1):\n",
    "        thirdterm += function(x[2*j])\n",
    "    d = (h/3)*((function(a))+(2*secondterm)+(4*thirdterm)+(function(b)))\n",
    "    end_time = time.time()\n",
    "    total_time = end_time - start_time\n",
    "    return d, total_time\n",
    " \n",
    "      \n",
    "def main():\n",
    "    table = PrettyTable();\n",
    "    table.field_names = [\"   \", \"n = 1\", \"n = 2\", \"n = 4\", \"n = 8\"];\n",
    "    function_sin_x = [\"Simspons Composite sin(x)\"];\n",
    "    function_sin_x.append(simpsonsRuleSinX(1.2, 0.8, 1));\n",
    "    function_sin_x.append(simpsonsRuleSinX(1.2, 0.8, 2));\n",
    "    function_sin_x.append(simpsonsRuleSinX(1.2, 0.8, 4));\n",
    "    function_sin_x.append(simpsonsRuleSinX(1.2, 0.8, 8));\n",
    "    table.add_row(function_sin_x);\n",
    "\n",
    "    \n",
    "\n",
    "    \n",
    "    \n",
    "    \n",
    "    \n",
    "    print(table);\n",
    "\n",
    "main()"
   ]
  },
  {
   "cell_type": "code",
   "execution_count": 10,
   "metadata": {},
   "outputs": [
    {
     "name": "stdout",
     "output_type": "stream",
     "text": [
      "+------------------+---------------------+--------------------+\n",
      "|                  | Three Point Formula | Five Point Formula |\n",
      "+------------------+---------------------+--------------------+\n",
      "|   d/dx sin(x)    |    0.620574469542   |   0.621607898703   |\n",
      "| Absolute Error:  |   0.0010354987288   | 2.06956796012e-06  |\n",
      "|  Relative Error  |    0.166583353172   | 0.000332936739395  |\n",
      "+------------------+---------------------+--------------------+\n"
     ]
    }
   ],
   "source": [
    "from math import sin\n",
    "from math import cos\n",
    "from prettytable import PrettyTable\n",
    "\n",
    "\n",
    "def relativeError(measured, actual):\n",
    "    u = abs(measured - actual) / (actual)\n",
    "    return u * 100\n",
    "\n",
    "def absoluteError(measured, actual):\n",
    "    return abs(measured - actual)\n",
    "\n",
    "def threePointFormula(x, h):\n",
    "    top = (sin(x+h)-sin(x-h));\n",
    "    bottom = (2*h);\n",
    "    return top/bottom\n",
    "\n",
    "def fivePointFormula(x, h):\n",
    "    top = (-sin(x+2*h)+8*sin(x+h)-8*sin(x-h)+sin(x-2*h));\n",
    "    bottom = (12*h);\n",
    "    return top/bottom\n",
    "\n",
    "def main():\n",
    "    threePoint = threePointFormula(0.9, 0.1)\n",
    "    fivePoint = fivePointFormula(0.9, 0.1)\n",
    "    table = PrettyTable();\n",
    "    table.field_names = [\"   \", \"Three Point Formula\", \"Five Point Formula\"];\n",
    "    tableArray = ['d/dx sin(x)'];\n",
    "    tableArray.append(threePoint)\n",
    "    tableArray.append(fivePoint)\n",
    "    table.add_row(tableArray);\n",
    "    absErrorArray = ['Absolute Error: ']\n",
    "    absErrorArray.append(absoluteError(threePoint, cos(0.9)))\n",
    "    absErrorArray.append(absoluteError(fivePoint, cos(0.9)))\n",
    "    table.add_row(absErrorArray);\n",
    "    relativeErrorArray = [\"Relative Error\"]\n",
    "    relativeErrorArray.append(relativeError(threePoint, cos(0.9)))\n",
    "    relativeErrorArray.append(relativeError(fivePoint, cos(0.9)))\n",
    "    table.add_row(relativeErrorArray);\n",
    "    print(table)\n",
    "    \n",
    "    \n",
    "    \n",
    "    \n",
    "main()\n",
    "    "
   ]
  },
  {
   "cell_type": "code",
   "execution_count": null,
   "metadata": {},
   "outputs": [],
   "source": []
  }
 ],
 "metadata": {
  "kernelspec": {
   "display_name": "Python 2",
   "language": "python",
   "name": "python2"
  },
  "language_info": {
   "codemirror_mode": {
    "name": "ipython",
    "version": 2
   },
   "file_extension": ".py",
   "mimetype": "text/x-python",
   "name": "python",
   "nbconvert_exporter": "python",
   "pygments_lexer": "ipython2",
   "version": "2.7.15"
  }
 },
 "nbformat": 4,
 "nbformat_minor": 2
}
