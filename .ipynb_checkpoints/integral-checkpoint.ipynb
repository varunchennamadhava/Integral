{
 "cells": [
  {
   "cell_type": "code",
   "execution_count": 1,
   "metadata": {},
   "outputs": [
    {
     "name": "stdout",
     "output_type": "stream",
     "text": [
      "Midpoint and Simpson Integral\n"
     ]
    }
   ],
   "source": [
    "print(\"Midpoint and Simpson Integral\")"
   ]
  },
  {
   "cell_type": "code",
   "execution_count": 9,
   "metadata": {},
   "outputs": [
    {
     "name": "stdout",
     "output_type": "stream",
     "text": [
      "+---------------------------+----------------+----------------+----------------+-----------------+\n",
      "|                           |     n = 1      |     n = 2      |     n = 4      |      n = 8      |\n",
      "+---------------------------+----------------+----------------+----------------+-----------------+\n",
      "| Simspons Composite sin(x) | 0.219919356916 | 0.352438992278 | 0.131410562418 | 0.0857746555507 |\n",
      "+---------------------------+----------------+----------------+----------------+-----------------+\n"
     ]
    }
   ],
   "source": [
    "import math\n",
    "from prettytable import PrettyTable\n",
    "# https://www.youtube.com/watch?v=Jqbec2k6PmM\n",
    "\n",
    "def sinxFunction(x):\n",
    "    return math.sin(x)\n",
    "\n",
    "def deltaX(upper_bound, lower_bound, n):\n",
    "    return ((upper_bound - lower_bound)/n);\n",
    "\n",
    "\n",
    "def simpsonsRuleSinX(upper_bound, lower_bound, n):\n",
    "    constant = (deltaX(upper_bound, lower_bound, n))/3;\n",
    "    FX0 = sinxFunction(lower_bound);\n",
    "    FXN = sinxFunction(upper_bound);\n",
    "    FX2j = 0;\n",
    "    FX2j_1 = 0;\n",
    "    for i in range(1, int(n/2)):\n",
    "        FX2j = FX2j + sinxFunction((2*i)-1);\n",
    "    for j in range(1, int(n/2)+1):\n",
    "        FX2j_1 = FX2j_1 + sinxFunction(2*j);\n",
    "    answer = (constant * ( FX0 + (2* FX2j) + (4 * FX2j_1) + FXN));\n",
    "    return answer;\n",
    "\n",
    "\n",
    "def compositeSimpsonRule(function,a,b):\n",
    "    start_time = time.time()\n",
    "    n = 1000000\n",
    "    h = (b-a)/n\n",
    "    x = [a+(j*h) for j in range(0,n+1)]\n",
    "    secondterm = 0\n",
    "    for j in range(1,int(n/2)):\n",
    "        secondterm += function(x[(2*j)-1])\n",
    "    thirdterm = 0\n",
    "    for j in range(1,int(n/2)+1):\n",
    "        thirdterm += function(x[2*j])\n",
    "    d = (h/3)*((function(a))+(2*secondterm)+(4*thirdterm)+(function(b)))\n",
    "    end_time = time.time()\n",
    "    total_time = end_time - start_time\n",
    "    return d, total_time\n",
    " \n",
    "      \n",
    "def main():\n",
    "    table = PrettyTable();\n",
    "    table.field_names = [\"   \", \"n = 1\", \"n = 2\", \"n = 4\", \"n = 8\"];\n",
    "    function_sin_x = [\"Simspons Composite sin(x)\"];\n",
    "    function_sin_x.append(simpsonsRuleSinX(1.2, 0.8, 1));\n",
    "    function_sin_x.append(simpsonsRuleSinX(1.2, 0.8, 2));\n",
    "    function_sin_x.append(simpsonsRuleSinX(1.2, 0.8, 4));\n",
    "    function_sin_x.append(simpsonsRuleSinX(1.2, 0.8, 8));\n",
    "    table.add_row(function_sin_x);\n",
    "\n",
    "    \n",
    "\n",
    "    \n",
    "    \n",
    "    \n",
    "    \n",
    "    print(table);\n",
    "\n",
    "main()"
   ]
  },
  {
   "cell_type": "code",
   "execution_count": null,
   "metadata": {},
   "outputs": [],
   "source": []
  },
  {
   "cell_type": "code",
   "execution_count": null,
   "metadata": {},
   "outputs": [],
   "source": []
  }
 ],
 "metadata": {
  "kernelspec": {
   "display_name": "Python 2",
   "language": "python",
   "name": "python2"
  },
  "language_info": {
   "codemirror_mode": {
    "name": "ipython",
    "version": 2
   },
   "file_extension": ".py",
   "mimetype": "text/x-python",
   "name": "python",
   "nbconvert_exporter": "python",
   "pygments_lexer": "ipython2",
   "version": "2.7.15"
  }
 },
 "nbformat": 4,
 "nbformat_minor": 2
}
